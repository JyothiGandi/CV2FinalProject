{
 "cells": [
  {
   "cell_type": "markdown",
   "id": "12b83c4d",
   "metadata": {},
   "source": [
    "# COCO Annotation Utils"
   ]
  },
  {
   "cell_type": "markdown",
   "id": "c7b3f62f",
   "metadata": {},
   "source": [
    "Author: Jyothi Gandi"
   ]
  },
  {
   "cell_type": "markdown",
   "id": "76c0e09e",
   "metadata": {},
   "source": [
    "# Merge 2 COCO JSON Files"
   ]
  },
  {
   "cell_type": "code",
   "execution_count": 2,
   "id": "1c2d421c",
   "metadata": {},
   "outputs": [],
   "source": [
    "import json\n",
    "\n",
    "def merge_coco_json(json_files, output_file):\n",
    "    merged_annotations = {\n",
    "        \"info\": {},\n",
    "        \"licenses\": [],\n",
    "        \"images\": [],\n",
    "        \"annotations\": [],\n",
    "        \"categories\": []\n",
    "    }\n",
    "\n",
    "    image_id_offset = 0\n",
    "    annotation_id_offset = 0\n",
    "    category_id_offset = 0\n",
    "    category_id_mapping = {}\n",
    "\n",
    "    for idx, file in enumerate(json_files):\n",
    "        with open(file, 'r') as f:\n",
    "            coco = json.load(f)\n",
    "\n",
    "        # Update image IDs to avoid conflicts\n",
    "        for image in coco['images']:\n",
    "            image['id'] += image_id_offset\n",
    "            merged_annotations['images'].append(image)\n",
    "\n",
    "        # Update categories and their IDs to avoid conflicts\n",
    "        for category in coco['categories']:\n",
    "            old_category_id = category['id']\n",
    "            category['id'] += category_id_offset\n",
    "            merged_annotations['categories'].append(category)\n",
    "            category_id_mapping[old_category_id] = category['id']\n",
    "\n",
    "        # Update annotation IDs and category IDs to avoid conflicts\n",
    "        for annotation in coco['annotations']:\n",
    "            annotation['id'] += annotation_id_offset\n",
    "            annotation['image_id'] += image_id_offset\n",
    "            annotation['category_id'] = category_id_mapping[annotation['category_id']]\n",
    "            merged_annotations['annotations'].append(annotation)\n",
    "\n",
    "        image_id_offset = len(merged_annotations['images'])\n",
    "        annotation_id_offset = len(merged_annotations['annotations'])\n",
    "        category_id_offset = len(merged_annotations['categories'])\n",
    "\n",
    "    # Save merged annotations to output file\n",
    "    with open(output_file, 'w') as f:\n",
    "        json.dump(merged_annotations, f)\n",
    "\n"
   ]
  },
  {
   "cell_type": "code",
   "execution_count": 15,
   "id": "cd6788b6",
   "metadata": {},
   "outputs": [
    {
     "name": "stdout",
     "output_type": "stream",
     "text": [
      "Merged COCO JSON files saved to test_annotations_new2.coco.json\n"
     ]
    }
   ],
   "source": [
    "# List of paths to COCO JSON files to merge\n",
    "json_files = [\"fruits_test_annotations.coco.json\", \"dollars_test_annotations_new2.coco.json\"]\n",
    "\n",
    "# Output file path for merged annotations\n",
    "output_file = \"test_annotations_new2.coco.json\"\n",
    "\n",
    "# Merge COCO JSON files\n",
    "merge_coco_json(json_files, output_file)\n",
    "\n",
    "print(\"Merged COCO JSON files saved to\", output_file)"
   ]
  },
  {
   "cell_type": "code",
   "execution_count": 4,
   "id": "e2c901f2",
   "metadata": {},
   "outputs": [
    {
     "name": "stdout",
     "output_type": "stream",
     "text": [
      "Merged COCO JSON files saved to valid_annotations_new2.coco.json\n"
     ]
    }
   ],
   "source": [
    "# List of paths to COCO JSON files to merge\n",
    "json_files = [\"fruits_valid_annotations.coco.json\", \"dollars_valid_annotations_new2.coco.json\"]\n",
    "\n",
    "# Output file path for merged annotations\n",
    "output_file = \"valid_annotations_new2.coco.json\"\n",
    "\n",
    "# Merge COCO JSON files\n",
    "merge_coco_json(json_files, output_file)\n",
    "\n",
    "print(\"Merged COCO JSON files saved to\", output_file)"
   ]
  },
  {
   "cell_type": "code",
   "execution_count": 33,
   "id": "b802510c",
   "metadata": {},
   "outputs": [
    {
     "name": "stdout",
     "output_type": "stream",
     "text": [
      "Merged COCO JSON files saved to train_annotations_new2.coco.json\n"
     ]
    }
   ],
   "source": [
    "# List of paths to COCO JSON files to merge\n",
    "json_files = [\"fruits_train_annotations.coco.json\", \"dollars_train_annotations_new2.coco.json\"]\n",
    "\n",
    "# Output file path for merged annotations\n",
    "output_file = \"train_annotations_new2.coco.json\"\n",
    "\n",
    "# Merge COCO JSON files\n",
    "merge_coco_json(json_files, output_file)\n",
    "\n",
    "print(\"Merged COCO JSON files saved to\", output_file)"
   ]
  },
  {
   "cell_type": "code",
   "execution_count": null,
   "id": "87ff4fa9",
   "metadata": {},
   "outputs": [],
   "source": []
  },
  {
   "cell_type": "markdown",
   "id": "9bf5226b",
   "metadata": {},
   "source": [
    "# Convert bbox to segmentation"
   ]
  },
  {
   "cell_type": "code",
   "execution_count": 12,
   "id": "0d219b18",
   "metadata": {},
   "outputs": [],
   "source": [
    "import json\n",
    "\n",
    "\n",
    "def bbox_to_segmentation(bbox):\n",
    "    x, y, width, height = bbox\n",
    "    return [[x, y, x + width, y, x + width, y + height, x, y + height]]\n",
    "\n",
    "\n",
    "def update_coco_json(json_file, output_file):\n",
    "    with open(json_file, 'r') as f:\n",
    "        coco = json.load(f)\n",
    "\n",
    "    # Update annotation segmentation if it's empty\n",
    "    for annotation in coco['annotations']:\n",
    "        if annotation['segmentation'] == []:\n",
    "            annotation['segmentation'] = bbox_to_segmentation(annotation['bbox'])\n",
    "\n",
    "    # Save updated annotations to output file\n",
    "    with open(output_file, 'w') as f:\n",
    "        json.dump(coco, f)\n"
   ]
  },
  {
   "cell_type": "code",
   "execution_count": 17,
   "id": "0636567f",
   "metadata": {},
   "outputs": [
    {
     "name": "stdout",
     "output_type": "stream",
     "text": [
      "Updated COCO JSON files saved to dollars_test_annotations_new.coco.json\n"
     ]
    }
   ],
   "source": [
    "\n",
    "# List of paths to COCO JSON files to update\n",
    "json_files = \"dollars_test_annotations.coco.json\"\n",
    "\n",
    "# Output file path for updated annotations\n",
    "output_file = \"dollars_test_annotations_new.coco.json\"\n",
    "\n",
    "# Update COCO JSON file\n",
    "update_coco_json(json_files, output_file)\n",
    "\n",
    "print(\"Updated COCO JSON files saved to\", output_file)"
   ]
  },
  {
   "cell_type": "code",
   "execution_count": 18,
   "id": "f983994e",
   "metadata": {},
   "outputs": [
    {
     "name": "stdout",
     "output_type": "stream",
     "text": [
      "Updated COCO JSON files saved to dollars_train_annotations_new.coco.json\n"
     ]
    }
   ],
   "source": [
    "\n",
    "# List of paths to COCO JSON files to update\n",
    "json_files = \"dollars_train_annotations.coco.json\"\n",
    "\n",
    "# Output file path for updated annotations\n",
    "output_file = \"dollars_train_annotations_new.coco.json\"\n",
    "\n",
    "# Update COCO JSON file\n",
    "update_coco_json(json_files, output_file)\n",
    "\n",
    "print(\"Updated COCO JSON files saved to\", output_file)"
   ]
  },
  {
   "cell_type": "code",
   "execution_count": 19,
   "id": "0f77d8c5",
   "metadata": {},
   "outputs": [
    {
     "name": "stdout",
     "output_type": "stream",
     "text": [
      "Updated COCO JSON files saved to dollars_valid_annotations_new.coco.json\n"
     ]
    }
   ],
   "source": [
    "\n",
    "# List of paths to COCO JSON files to update\n",
    "json_files = \"dollars_valid_annotations.coco.json\"\n",
    "\n",
    "# Output file path for updated annotations\n",
    "output_file = \"dollars_valid_annotations_new.coco.json\"\n",
    "\n",
    "# Update COCO JSON file\n",
    "update_coco_json(json_files, output_file)\n",
    "\n",
    "print(\"Updated COCO JSON files saved to\", output_file)"
   ]
  },
  {
   "cell_type": "code",
   "execution_count": 13,
   "id": "02bc0164",
   "metadata": {},
   "outputs": [
    {
     "name": "stdout",
     "output_type": "stream",
     "text": [
      "Updated COCO JSON files saved to dollars_valid_annotations_new3.coco.json\n"
     ]
    }
   ],
   "source": [
    "\n",
    "# List of paths to COCO JSON files to update\n",
    "json_files = \"dollars_valid_annotations_new2.coco.json\"\n",
    "\n",
    "# Output file path for updated annotations\n",
    "output_file = \"dollars_valid_annotations_new2.coco.json\"\n",
    "\n",
    "# Update COCO JSON file\n",
    "update_coco_json(json_files, output_file)\n",
    "\n",
    "print(\"Updated COCO JSON files saved to\", output_file)"
   ]
  },
  {
   "cell_type": "code",
   "execution_count": 14,
   "id": "71d7a9e8",
   "metadata": {},
   "outputs": [
    {
     "name": "stdout",
     "output_type": "stream",
     "text": [
      "Updated COCO JSON files saved to dollars_test_annotations_new2.coco.json\n"
     ]
    }
   ],
   "source": [
    "\n",
    "# List of paths to COCO JSON files to update\n",
    "json_files = \"dollars_test_annotations_new2.coco.json\"\n",
    "\n",
    "# Output file path for updated annotations\n",
    "output_file = \"dollars_test_annotations_new2.coco.json\"\n",
    "\n",
    "# Update COCO JSON file\n",
    "update_coco_json(json_files, output_file)\n",
    "\n",
    "print(\"Updated COCO JSON files saved to\", output_file)"
   ]
  },
  {
   "cell_type": "code",
   "execution_count": 11,
   "id": "a701aa05",
   "metadata": {},
   "outputs": [
    {
     "data": {
      "text/plain": [
       "[[478, 356, 611, 356, 611, 640, 478, 640]]"
      ]
     },
     "execution_count": 11,
     "metadata": {},
     "output_type": "execute_result"
    }
   ],
   "source": [
    "def bbox_to_segmentation(bbox):\n",
    "    x, y, width, height = bbox\n",
    "    return [[x, y, x + width, y, x + width, y + height, x, y + height]]\n",
    "\n",
    "\n",
    "bbox_to_segmentation([478, 356, 133, 284])"
   ]
  },
  {
   "cell_type": "code",
   "execution_count": null,
   "id": "dc2e5ffc",
   "metadata": {},
   "outputs": [],
   "source": []
  },
  {
   "cell_type": "markdown",
   "id": "9fdeb50b",
   "metadata": {},
   "source": [
    "# Image Width Height Correction"
   ]
  },
  {
   "cell_type": "code",
   "execution_count": 28,
   "id": "f0069209",
   "metadata": {},
   "outputs": [],
   "source": [
    "import json\n",
    "from PIL import Image\n",
    "import os\n",
    "\n",
    "def update_image_dimensions(json_file, image_dir, output_file):\n",
    "    with open(json_file, 'r') as f:\n",
    "        coco = json.load(f)\n",
    "\n",
    "    # Update the dimensions\n",
    "    for image in coco['images']:\n",
    "        img = Image.open(os.path.join(image_dir, image['file_name']))\n",
    "        width, height = img.size\n",
    "        image['width'] = width\n",
    "        image['height'] = height\n",
    "\n",
    "    # Save the updated annotations\n",
    "    with open(output_file, 'w') as f:\n",
    "        json.dump(coco, f)\n"
   ]
  },
  {
   "cell_type": "code",
   "execution_count": 29,
   "id": "366ec29c",
   "metadata": {},
   "outputs": [
    {
     "name": "stdout",
     "output_type": "stream",
     "text": [
      "Updated COCO JSON file saved to dollars_test_annotations_new2.coco.json\n"
     ]
    }
   ],
   "source": [
    "\n",
    "# Path to COCO JSON file to update\n",
    "json_file = \"dollars_test_annotations_new.coco.json\"\n",
    "\n",
    "# Directory where the images are stored\n",
    "image_dir = \"./Dollar Bill Detection.v24-raw-images.coco/test/\"\n",
    "\n",
    "# Output file path for updated annotations\n",
    "output_file = \"dollars_test_annotations_new2.coco.json\"\n",
    "\n",
    "# Update COCO JSON file\n",
    "update_image_dimensions(json_file, image_dir, output_file)\n",
    "\n",
    "print(\"Updated COCO JSON file saved to\", output_file)\n"
   ]
  },
  {
   "cell_type": "code",
   "execution_count": 31,
   "id": "d010cf89",
   "metadata": {},
   "outputs": [
    {
     "name": "stdout",
     "output_type": "stream",
     "text": [
      "Updated COCO JSON file saved to dollars_valid_annotations_new2.coco.json\n"
     ]
    }
   ],
   "source": [
    "\n",
    "# Path to COCO JSON file to update\n",
    "json_file = \"dollars_valid_annotations_new.coco.json\"\n",
    "\n",
    "# Directory where the images are stored\n",
    "image_dir = \"./Dollar Bill Detection.v24-raw-images.coco/valid/\"\n",
    "\n",
    "# Output file path for updated annotations\n",
    "output_file = \"dollars_valid_annotations_new2.coco.json\"\n",
    "\n",
    "# Update COCO JSON file\n",
    "update_image_dimensions(json_file, image_dir, output_file)\n",
    "\n",
    "print(\"Updated COCO JSON file saved to\", output_file)\n"
   ]
  },
  {
   "cell_type": "code",
   "execution_count": 32,
   "id": "1051e43a",
   "metadata": {},
   "outputs": [
    {
     "name": "stdout",
     "output_type": "stream",
     "text": [
      "Updated COCO JSON file saved to dollars_train_annotations_new2.coco.json\n"
     ]
    }
   ],
   "source": [
    "\n",
    "# Path to COCO JSON file to update\n",
    "json_file = \"dollars_train_annotations_new.coco.json\"\n",
    "\n",
    "# Directory where the images are stored\n",
    "image_dir = \"./Dollar Bill Detection.v24-raw-images.coco/train/\"\n",
    "\n",
    "# Output file path for updated annotations\n",
    "output_file = \"dollars_train_annotations_new2.coco.json\"\n",
    "\n",
    "# Update COCO JSON file\n",
    "update_image_dimensions(json_file, image_dir, output_file)\n",
    "\n",
    "print(\"Updated COCO JSON file saved to\", output_file)\n"
   ]
  },
  {
   "cell_type": "code",
   "execution_count": null,
   "id": "2b7d80c4",
   "metadata": {},
   "outputs": [],
   "source": []
  },
  {
   "cell_type": "markdown",
   "id": "f09e1806",
   "metadata": {},
   "source": [
    "# Unzip folder"
   ]
  },
  {
   "cell_type": "code",
   "execution_count": 27,
   "id": "dd23a7a3",
   "metadata": {},
   "outputs": [],
   "source": [
    "import zipfile\n",
    "\n",
    "zip_path = 'Dollar Bill Detection.v24-raw-images.coco.zip'  # replace with your zip file path\n",
    "directory_to_extract_to = './'  # replace with the directory you want to unzip to\n",
    "\n",
    "with zipfile.ZipFile(zip_path, 'r') as zip_ref:\n",
    "    zip_ref.extractall(directory_to_extract_to)\n"
   ]
  },
  {
   "cell_type": "code",
   "execution_count": null,
   "id": "683dfc7b",
   "metadata": {},
   "outputs": [],
   "source": []
  }
 ],
 "metadata": {
  "kernelspec": {
   "display_name": "Python 3 (ipykernel)",
   "language": "python",
   "name": "python3"
  },
  "language_info": {
   "codemirror_mode": {
    "name": "ipython",
    "version": 3
   },
   "file_extension": ".py",
   "mimetype": "text/x-python",
   "name": "python",
   "nbconvert_exporter": "python",
   "pygments_lexer": "ipython3",
   "version": "3.11.4"
  }
 },
 "nbformat": 4,
 "nbformat_minor": 5
}
